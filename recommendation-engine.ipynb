{
 "cells": [
  {
   "cell_type": "markdown",
   "id": "62e46d1f",
   "metadata": {},
   "source": [
    "# Finding the Non-personalized Recomendation:\n",
    "Finding all pairs of movies\n",
    "In this exercise, you will work through how to find all pairs of movies or all permutations of pairs of movies that have been watched by the same person.\n",
    "\n",
    "The user_ratings_df has been loaded once again containing users, and the movies they have seen.\n",
    "\n",
    "You will need to first create a function that finds all possible pairs of items in a list it is applied to. For ease of use, you will output the values of this as a DataFrame. Since you only want to find movies that have been seen by the same person and not all possible permutations, you will group by user_id when applying the function."
   ]
  },
  {
   "cell_type": "raw",
   "id": "061063d5",
   "metadata": {},
   "source": [
    "### Input Data \n",
    "user_ratings_df.head()\n",
    "Out[1]:\n",
    "\n",
    "   userId     title\n",
    "0       6  Bad Boys\n",
    "1      18  Bad Boys\n",
    "2      21  Bad Boys\n",
    "3      28  Bad Boys\n",
    "4      34  Bad Boys"
   ]
  },
  {
   "cell_type": "code",
   "execution_count": null,
   "id": "f8abb805",
   "metadata": {},
   "outputs": [],
   "source": [
    "from itertools import permutations\n",
    "\n",
    "# Create the function to find all permutations\n",
    "def find_movie_pairs(x):\n",
    "  pairs = pd.DataFrame(list(permutations(x.values, 2)),\n",
    "                       columns=['movie_a', 'movie_b'])\n",
    "  return pairs\n",
    "\n",
    "# Apply the function to the title column and reset the index\n",
    "movie_combinations = user_ratings_df.groupby('userId')['title'].apply(find_movie_pairs).reset_index(drop=True)\n",
    "\n",
    "print(movie_combinations)"
   ]
  },
  {
   "cell_type": "raw",
   "id": "61dedae7",
   "metadata": {},
   "source": [
    " movie_a                          movie_b\n",
    "0          Bad Boys                             Thor\n",
    "1              Thor                         Bad Boys\n",
    "2          Bad Boys                   21 Jump Street\n",
    "3    21 Jump Street                         Bad Boys\n",
    "4              Thor  Avengers: Infinity War - Part I\n",
    "..              ...                              ...\n",
    "407            Thor                           Cars 2\n",
    "408     Bridesmaids                             Thor\n",
    "409     Bridesmaids                           Cars 2\n",
    "410          Cars 2                             Thor\n",
    "411          Cars 2                      Bridesmaids"
   ]
  },
  {
   "cell_type": "markdown",
   "id": "6740667d",
   "metadata": {},
   "source": [
    "##  Counting up the pairs\n",
    "You can now create DataFrame of all the permutations of movies that have been watched by the same user. This is of limited use unless you can find which movies are most commonly paired.\n",
    "\n",
    "In this exercise, you will work with the movie_combinations DataFrame that you created in the last exercise (that has been loaded for you), and generate a new DataFrame containing the counts of occurrences of each of the pairs within."
   ]
  },
  {
   "cell_type": "code",
   "execution_count": null,
   "id": "85febb52",
   "metadata": {},
   "outputs": [],
   "source": [
    "# Calculate how often each item in movie_a occurs with the items in movie_b\n",
    "combination_counts = movie_combinations.groupby(['movie_a', 'movie_b']).size()\n",
    "\n",
    "# Convert the results to a DataFrame and reset the index\n",
    "combination_counts_df = combination_counts.to_frame(name='size').reset_index()\n",
    "print(combination_counts_df.head())"
   ]
  },
  {
   "cell_type": "code",
   "execution_count": null,
   "id": "8e2cd076",
   "metadata": {},
   "outputs": [],
   "source": [
    "          movie_a |                         movie_b | size\n",
    "0  21 Jump Street |          Atlas Shrugged: Part 1 |    1\n",
    "1  21 Jump Street | Avengers: Infinity War - Part I |    3\n",
    "2  21 Jump Street |                        Bad Boys |    7\n",
    "3  21 Jump Street |                    Bad Teacher  |    8\n",
    "4  21 Jump Street |             Battle: Los Angeles |    2"
   ]
  },
  {
   "cell_type": "markdown",
   "id": "b76cb138",
   "metadata": {},
   "source": [
    "## Making your first movie recommendations\n",
    "Now that you have found the most commonly paired movies, you can make your first recommendations!\n",
    "\n",
    "While you are not taking in any information about the person watching, and do not even know any details about the movie, valuable recommendations can still be made by examining what groups of movies are watched by the same people. In this exercise, you will examine the movies often watched by the same people that watched Thor, and then use this data to give a recommendation to someone who just watched the movie. The DataFrame you generated in the last lesson, combination_counts_df, that contains counts of how often movies are watched together has been loaded for you."
   ]
  },
  {
   "cell_type": "code",
   "execution_count": null,
   "id": "1a75eb74",
   "metadata": {},
   "outputs": [],
   "source": [
    "import matplotlib.pyplot as plt\n",
    "\n",
    "# Sort the counts from highest to lowest\n",
    "combination_counts_df.sort_values('size', ascending=False, inplace=True)\n",
    "\n",
    "# Find the movies most frequently watched by people who watched Thor\n",
    "thor_df = combination_counts_df[combination_counts_df['movie_a'] == 'Thor']\n",
    "\n",
    "# Plot the results\n",
    "thor_df.plot.bar(x=\"movie_b\")\n",
    "plt.show()"
   ]
  },
  {
   "cell_type": "code",
   "execution_count": null,
   "id": "ac76c241",
   "metadata": {},
   "outputs": [],
   "source": [
    "In [2]:\n",
    "thor_df\n",
    "Out[2]:\n",
    "\n",
    "    movie_a                          movie_b  size\n",
    "137    Thor                   21 Jump Street    12\n",
    "147    Thor                    Green Lantern    10\n",
    "143    Thor                      Bridesmaids     9\n",
    "140    Thor                         Bad Boys     8\n",
    "141    Thor                      Bad Teacher     6\n",
    "139    Thor  Avengers: Infinity War - Part I     6\n",
    "142    Thor              Battle: Los Angeles     4\n",
    "146    Thor                           Cars 2     2\n",
    "145    Thor                          Carnage     2\n",
    "144    Thor                  Captain America     2\n",
    "148    Thor                              Rio     2\n",
    "138    Thor           Atlas Shrugged: Part 1     1"
   ]
  },
  {
   "cell_type": "markdown",
   "id": "4485807d",
   "metadata": {},
   "source": [
    "## Inference - \n",
    "Good work! You can see that 21 Jump Street was the most commonly watched movie by those who watched Thor. This means that it would be a good movie to recommend Thor watchers as it shows they have similar fans."
   ]
  },
  {
   "cell_type": "markdown",
   "id": "2486c010",
   "metadata": {},
   "source": [
    "# Content Based Recomendation "
   ]
  },
  {
   "cell_type": "code",
   "execution_count": null,
   "id": "a3ce14ca",
   "metadata": {},
   "outputs": [],
   "source": [
    "# Select only the rows with values in the name column equal to Toy Story\n",
    "toy_story_genres = movie_genre_df[movie_genre_df['name'] == 'Toy Story']\n"
   ]
  },
  {
   "cell_type": "code",
   "execution_count": null,
   "id": "45821724",
   "metadata": {},
   "outputs": [],
   "source": [
    "\"\"\"\n",
    "movie_genre_df.head(2)\n",
    "\n",
    "\n",
    "        name genre_list\n",
    "0  Toy Story  Adventure\n",
    "1  Toy Story  Animation\n",
    "\"\"\""
   ]
  },
  {
   "cell_type": "code",
   "execution_count": null,
   "id": "0fbc43d6",
   "metadata": {},
   "outputs": [],
   "source": [
    "# Create cross-tabulated DataFrame from name and genre_list columns\n",
    "movie_cross_table = pd.crosstab(movie_genre_df['name'], movie_genre_df['genre_list'])"
   ]
  },
  {
   "cell_type": "code",
   "execution_count": null,
   "id": "4295842f",
   "metadata": {},
   "outputs": [],
   "source": [
    "\"\"\"\n",
    "movie_cross_table\n",
    "\n",
    "\n",
    "genre_list                      Action  Adventure  Animation  Children  Comedy  ...  Drama  Fantasy  Horror  Romance  Thriller\n",
    "name                                                                            ...                                           \n",
    "Ace Ventura: When Nature Calls       0          0          0         0       1  ...      0        0       0        0         0\n",
    "American President, The              0          0          0         0       1  ...      1        0       0        1         0\n",
    "Balto                                0          1          1         1       0  ...      0        0       0        0         0\n",
    "\"\"\""
   ]
  },
  {
   "cell_type": "code",
   "execution_count": null,
   "id": "030c5d0e",
   "metadata": {},
   "outputs": [],
   "source": [
    "# Select only the rows with Toy Story as the index\n",
    "toy_story_genres_ct = movie_cross_table[movie_cross_table.index == 'Toy Story']\n",
    "print(toy_story_genres_ct)"
   ]
  },
  {
   "cell_type": "code",
   "execution_count": null,
   "id": "d1936dfe",
   "metadata": {},
   "outputs": [],
   "source": [
    "\"\"\"\n",
    "In [7]:\n",
    "toy_story_genres_ct\n",
    "Out[7]:\n",
    "\n",
    "genre_list  Action  Adventure  Animation  Children  Comedy  ...  Drama  Fantasy  Horror  Romance  Thriller\n",
    "name                                                        ...                                           \n",
    "Toy Story        0          1          1         1       1  ...      0        1       0        0         0\n",
    "\n",
    "\"\"\""
   ]
  },
  {
   "cell_type": "raw",
   "id": "d9a70b4b",
   "metadata": {},
   "source": [
    "Good work! This newly formatted table with a vector contained in a row per movie and a column per feature will allow you to calculate distances and similarities between movies."
   ]
  },
  {
   "cell_type": "raw",
   "id": "899a812e",
   "metadata": {},
   "source": [
    "\n",
    "movie_cross_table[\n",
    "movie_cross_table.index=='Yogi Bear' ]\n",
    "Out[2]:\n",
    "\n",
    "genre_list  Action  Adventure  Animation  Children  Comedy  Crime\n",
    "name                                                             \n",
    "Yogi Bear        0          0          0         1       1      0\n",
    "In [3]:\n",
    "\n",
    "movie_cross_table[\n",
    "movie_cross_table.index=='Toy Story' ]\n",
    "Out[3]:\n",
    "\n",
    "genre_list  Action  Adventure  Animation  Children  Comedy  Crime\n",
    "name                                                             \n",
    "Toy Story        0          1          1         1       1      0"
   ]
  },
  {
   "cell_type": "markdown",
   "id": "b653f9a1",
   "metadata": {},
   "source": [
    "## Comparing individual movies with Jaccard similarity\n",
    "In the last lesson, you built a DataFrame of movies, where each column represents a different genre. You can now use this DataFrame to compare movies by measuring the Jaccard similarity between rows. The higher the Jaccard similarity score, the more similar the two items are.\n",
    "\n",
    "In this exercise, you will compare the movie GoldenEye with the movie Toy Story, and GoldenEye with SkyFall and compare the results.\n",
    "\n",
    "The DataFrame movie_cross_table containing all the movies as rows and the genres as Boolean columns that you created in the last lesson has been loaded."
   ]
  },
  {
   "cell_type": "code",
   "execution_count": null,
   "id": "33cb77fb",
   "metadata": {},
   "outputs": [],
   "source": [
    "# Import numpy and the distance metric\n",
    "import numpy as np\n",
    "from sklearn.metrics import jaccard_score\n",
    "\n",
    "# Extract just the rows containing GoldenEye and Toy Story\n",
    "goldeneye_values = movie_cross_table.loc['GoldenEye'].values\n",
    "toy_story_values = movie_cross_table.loc['Toy Story'].values\n",
    "\n",
    "# Find the similarity between GoldenEye and Toy Story\n",
    "print(jaccard_score(goldeneye_values, toy_story_values))\n",
    "\n",
    "# Repeat for GoldenEye and Skyfall\n",
    "skyfall_values = movie_cross_table.loc['Skyfall'].values\n",
    "print(jaccard_score(goldeneye_values, skyfall_values))"
   ]
  },
  {
   "cell_type": "raw",
   "id": "680a6bdd",
   "metadata": {},
   "source": [
    "0.14285714285714285\n",
    "0.75"
   ]
  },
  {
   "cell_type": "markdown",
   "id": "51f56e85",
   "metadata": {},
   "source": [
    "## Comparing all your movies at once\n",
    "While finding the Jaccard similarity between any two individual movies in your dataset is great for small-scale analyses, it can prove slow on larger datasets to make recommendations.\n",
    "\n",
    "In this exercise, you will find the similarities between all movies and store them in a DataFrame for quick and easy lookup.\n",
    "\n",
    "When finding the similarities between the rows in a DataFrame, you could run through all pairs and calculate them individually, but it's more efficient to use the pdist() (pairwise distance) function from scipy.\n",
    "\n",
    "This can be reshaped into the desired rectangular shape using squareform() from the same library. Since you want similarity values as opposed to distances, you should subtract the values from 1.\n",
    "\n",
    "movie_cross_table has once again been loaded for you."
   ]
  },
  {
   "cell_type": "code",
   "execution_count": null,
   "id": "65106009",
   "metadata": {},
   "outputs": [],
   "source": [
    "# Import functions from scipy\n",
    "from scipy.spatial.distance import pdist, squareform\n",
    "\n",
    "# Calculate all pairwise distances\n",
    "jaccard_distances = pdist(movie_cross_table.values, metric='jaccard')\n",
    "\n",
    "# Convert the distances to a square matrix\n",
    "jaccard_similarity_array = 1 -  squareform(jaccard_distances)\n",
    "\n",
    "# Wrap the array in a pandas DataFrame\n",
    "jaccard_similarity_df = pd.DataFrame(jaccard_similarity_array, index=movie_cross_table.index, columns=movie_cross_table.index)\n",
    "\n",
    "# Print the top 5 rows of the DataFrame\n",
    "print(jaccard_similarity_df.head())"
   ]
  },
  {
   "cell_type": "code",
   "execution_count": null,
   "id": "8c6fd0d2",
   "metadata": {},
   "outputs": [],
   "source": [
    "'''\n",
    "\n",
    "____ Output :: \n",
    "\n",
    "name                                  21 Jump Street  Alvin and the Chipmunks: Chipwrecked  Another Earth  Beastly  Bridesmaids  ...    Cars 2  Green Lantern  Oldboy       Rio      Thor\n",
    "name                                                                                                                             ...                                                     \n",
    "21 Jump Street                              1.000000                                  0.25            0.0      0.0     0.333333  ...  0.142857            0.2     0.2  0.166667  0.142857\n",
    "Alvin and the Chipmunks: Chipwrecked        0.250000                                  1.00            0.0      0.0     0.500000  ...  0.400000            0.0     0.0  0.500000  0.000000\n",
    "Another Earth                               0.000000                                  0.00            1.0      0.5     0.000000  ...  0.000000            0.2     0.2  0.000000  0.142857\n",
    "Beastly                                     0.000000                                  0.00            0.5      1.0     0.000000  ...  0.000000            0.0     0.2  0.000000  0.333333\n",
    "Bridesmaids                                 0.333333                                  0.50            0.0      0.0     1.000000  ...  0.200000            0.0     0.0  0.250000  0.000000\n",
    "\n",
    "'''"
   ]
  },
  {
   "cell_type": "code",
   "execution_count": null,
   "id": "4acfbbd0",
   "metadata": {},
   "outputs": [],
   "source": [
    "## Recommend a Movie similar to Thor \n",
    "# Wrap the preloaded array in a DataFrame\n",
    "jaccard_similarity_df = pd.DataFrame(jaccard_similarity_array, index=movie_cross_table.index, columns=movie_cross_table.index)\n",
    "\n",
    "# Find the values for the movie Thor\n",
    "jaccard_similarity_series = jaccard_similarity_df.loc['Thor']\n",
    "\n",
    "# Sort these values from highest to lowest\n",
    "ordered_similarities = jaccard_similarity_series.sort_values(ascending=False)\n",
    "\n",
    "# Print the results\n",
    "print(ordered_similarities)"
   ]
  },
  {
   "cell_type": "code",
   "execution_count": null,
   "id": "87e5d256",
   "metadata": {},
   "outputs": [],
   "source": [
    "'''\n",
    "name\n",
    "Thor                                    1.000000\n",
    "Green Lantern                           0.333333\n",
    "Cars 2                                  0.250000\n",
    "Captain America: The First Avenger      0.250000\n",
    "Carnage                                 0.166667\n",
    "Another Earth                           0.142857\n",
    "21 Jump Street                          0.142857\n",
    "Rio                                     0.125000\n",
    "Bridesmaids                             0.000000\n",
    "Alvin and the Chipmunks: Chipwrecked    0.000000\n",
    "\n",
    "'''"
   ]
  },
  {
   "cell_type": "markdown",
   "id": "8c946627",
   "metadata": {},
   "source": [
    "## Content-Based using Text Features "
   ]
  },
  {
   "cell_type": "code",
   "execution_count": null,
   "id": "67ed607b",
   "metadata": {},
   "outputs": [],
   "source": [
    "'''\n",
    "df_plots\n",
    "\n",
    "\n",
    "                             Title                                               Plot\n",
    "0   Ace Ventura: When Nature Calls  In the Himalayas, after a failed rescue missio...\n",
    "1      Dracula: Dead and Loving It  Solicitor Thomas Renfield travels all the way ...\n",
    "2      Father of the Bride Part II  The film begins five years after the events of...\n",
    "3                       Four Rooms  The film is set on New Year's Eve, and starts ...\n",
    "4                 Grumpier Old Men  The feud between Max (Walter Matthau) and John...\n",
    "5                          Jumanji  In 1869, near Brantford, New Hampshire, two br...\n",
    "6                     Sudden Death  Darren McCord (Jean-Claude Van Damme) is a Fre...\n",
    "7                     Tom and Huck  The movie opens with Injun Joe (Eric Schweig) ...\n",
    "8                        Toy Story  In a world where toys are living things who pr...\n",
    "9                Waiting to Exhale  \"Friends are the People who let you be yoursel...\n",
    "10                       GoldenEye  In 1986, at Arkhangelsk, MI6 agents James Bond...\n",
    "11                         Skyfall  MI6 agents James Bond and Eve Moneypenny pursu...\n",
    "'''"
   ]
  },
  {
   "cell_type": "code",
   "execution_count": null,
   "id": "42ddedc1",
   "metadata": {},
   "outputs": [],
   "source": [
    "rom sklearn.feature_extraction.text import TfidfVectorizer\n",
    "\n",
    "# Instantiate the vectorizer object and transform the plot column\n",
    "vectorizer = TfidfVectorizer(max_df=0.7, min_df=2)\n",
    "vectorized_data = vectorizer.fit_transform(df_plots['Plot']) \n",
    "\n",
    "# Create Dataframe from TF-IDFarray\n",
    "tfidf_df = pd.DataFrame(vectorized_data.toarray(), columns=vectorizer.get_feature_names())\n",
    "\n",
    "# Assign the movie titles to the index and inspect\n",
    "tfidf_df.index = df_plots['Title']\n",
    "print(tfidf_df.head())"
   ]
  },
  {
   "cell_type": "code",
   "execution_count": null,
   "id": "82a5923f",
   "metadata": {},
   "outputs": [],
   "source": [
    "'''\n",
    "                               000       100  abandoned     above  accidentally  ...     wrong      year     years       you     young\n",
    "Title                                                                                  ...                                                  \n",
    "Ace Ventura: When Nature Calls  0.000000  0.000000        0.0  0.000000      0.000000  ...  0.000000  0.000000  0.044595  0.000000  0.053863\n",
    "Dracula: Dead and Loving It     0.000000  0.000000        0.0  0.000000      0.000000  ...  0.000000  0.000000  0.000000  0.055645  0.000000\n",
    "Father of the Bride Part II     0.045850  0.045850        0.0  0.000000      0.000000  ...  0.045850  0.000000  0.030099  0.000000  0.072708\n",
    "Four Rooms                      0.039916  0.039916        0.0  0.079831      0.039916  ...  0.039916  0.079831  0.026203  0.000000  0.000000\n",
    "Grumpier Old Men                0.000000  0.000000        0.0  0.000000      0.000000  ...  0.000000  0.000000  0.000000  0.000000  0.000000\n",
    "\n",
    "\n",
    "'''"
   ]
  },
  {
   "cell_type": "code",
   "execution_count": null,
   "id": "8eda9bbc",
   "metadata": {},
   "outputs": [],
   "source": [
    "# Import cosine_similarity measure\n",
    "from sklearn.metrics.pairwise import cosine_similarity\n",
    "\n",
    "# Create the array of cosine similarity values\n",
    "cosine_similarity_array = cosine_similarity(tfidf_summary_df)\n",
    "\n",
    "# Wrap the array in a pandas DataFrame\n",
    "cosine_similarity_df = pd.DataFrame(cosine_similarity_array, columns=tfidf_summary_df.index, index=tfidf_summary_df.index)\n",
    "\n",
    "# Print the top 5 rows of the DataFrame\n",
    "print(cosine_similarity_df.head()) ## 18 * 18 matrix\n"
   ]
  },
  {
   "cell_type": "code",
   "execution_count": null,
   "id": "1304f264",
   "metadata": {},
   "outputs": [],
   "source": [
    "'''\n",
    "                                                       Thor  21 Jump Street  The Avengers    Oldboy  \n",
    "The Adventures of Tintin: The Secret of the Uni...  0.312927        0.282663      0.374425  0.248183  \n",
    "Alvin and the Chipmunks: Chipwrecked                0.323938        0.311788      0.400024  0.267687  \n",
    "Another Earth                                       0.304739        0.236896      0.229218  0.249804  \n",
    "Beastly                                             0.229194        0.187408      0.186539  0.207715  \n",
    "The Beaver                                          0.300383        0.238325      0.266592  0.253751  \n",
    "\n",
    "\n",
    "'''"
   ]
  },
  {
   "cell_type": "code",
   "execution_count": null,
   "id": "e1c980f9",
   "metadata": {},
   "outputs": [],
   "source": [
    "## How to make Recommendation \n",
    "# Wrap the preloaded array in a DataFrame\n",
    "cosine_similarity_df = pd.DataFrame(cosine_similarity_array, index=tfidf_summary_df.index, columns=tfidf_summary_df.index)\n",
    "\n",
    "# Find the values for the movie Thor\n",
    "cosine_similarity_series = cosine_similarity_df.loc['Rio']\n",
    "\n",
    "# Sort these values highest to lowest\n",
    "ordered_similarities = cosine_similarity_series.sort_values(ascending=False)\n",
    "\n",
    "# Print the results\n",
    "print(ordered_similarities)"
   ]
  },
  {
   "cell_type": "code",
   "execution_count": null,
   "id": "25754aa1",
   "metadata": {},
   "outputs": [],
   "source": [
    "'''\n",
    "Rio                                                    1.000000\n",
    "Alvin and the Chipmunks: Chipwrecked                   0.361180\n",
    "The Avengers                                           0.344869\n",
    "The Hangover: Part II                                  0.344407\n",
    "The Adventures of Tintin: The Secret of the Unicorn    0.327422\n",
    "Thor                                                   0.318216\n",
    "Green Lantern                                          0.314570\n",
    "Carnage                                                0.312067\n",
    "Cars 2                                                 0.306499\n",
    "21 Jump Street                                         0.290252\n",
    "Another Earth                                          0.281780\n",
    "Captain America: The First Avenger                     0.266358\n",
    "The Twilight Saga: Breaking Dawn - Part 1              0.262755\n",
    "Oldboy                                                 0.252323\n",
    "Bridesmaids                                            0.234514\n",
    "Beastly                                                0.213502\n",
    "\n",
    "'''"
   ]
  },
  {
   "cell_type": "markdown",
   "id": "9a102a5c",
   "metadata": {},
   "source": [
    "## Build a User-Profile for Recommendation : Users saw some Movies and we grabbed the genre for all the movies he/she watched and after that , we trying to undesrtand what sort tf-id features weight and after that we remove the list of movies he/she wacthed and and  find the other movies which he/she did not watched till now and recommend him/her. "
   ]
  },
  {
   "cell_type": "markdown",
   "id": "cb7695a1",
   "metadata": {},
   "source": [
    "You are now able to generate suggestions for similar items based on their labeled features or based on their descriptions. But sometimes finding similar items might not be enough. In the next exercises, you will work through how one could create recommendations based on a user and all the items they liked as opposed to a singular item. You will first generate a profile for a user by aggregating all of the movies they have previously enjoyed.\n",
    "\n",
    "The tfidf_summary_df you have been working on in the last few exercises has been loaded for you. This contains a row per movie with their titles as the index and a column for each feature containing their respective TF-IDF score."
   ]
  },
  {
   "cell_type": "code",
   "execution_count": null,
   "id": "063b4b19",
   "metadata": {},
   "outputs": [],
   "source": [
    "tfidf_summary_df"
   ]
  },
  {
   "cell_type": "code",
   "execution_count": null,
   "id": "120ccf2c",
   "metadata": {},
   "outputs": [],
   "source": [
    "'''\n",
    "                               000       100  abandoned     above  accidentally  ...     wrong      year     years       you     young\n",
    "Title                                                                                  ...                                                  \n",
    "Ace Ventura: When Nature Calls  0.000000  0.000000        0.0  0.000000      0.000000  ...  0.000000  0.000000  0.044595  0.000000  0.053863\n",
    "Dracula: Dead and Loving It     0.000000  0.000000        0.0  0.000000      0.000000  ...  0.000000  0.000000  0.000000  0.055645  0.000000\n",
    "Father of the Bride Part II     0.045850  0.045850        0.0  0.000000      0.000000  ...  0.045850  0.000000  0.030099  0.000000  0.072708\n",
    "Four Rooms                      0.039916  0.039916        0.0  0.079831      0.039916  ...  0.039916  0.079831  0.026203  0.000000  0.000000\n",
    "Grumpier Old Men                0.000000  0.000000        0.0  0.000000      0.000000  ...  0.000000  0.000000  0.000000  0.000000  0.000000\n",
    "\n",
    "\n",
    "'''"
   ]
  },
  {
   "cell_type": "code",
   "execution_count": null,
   "id": "05984b33",
   "metadata": {},
   "outputs": [],
   "source": [
    "list_of_movies_enjoyed = ['Captain America: The First Avenger', 'Green Lantern', 'The Avengers'] \n",
    "\n",
    "# Create a subset of only the movies the user has enjoyed\n",
    "movies_enjoyed_df = tfidf_summary_df.reindex(list_of_movies_enjoyed)\n",
    "\n",
    "# Generate the user profile by finding the average scores of movies they enjoyed\n",
    "user_prof = movies_enjoyed_df.mean()\n",
    "\n",
    "# Inspect the results\n",
    "print(user_prof)"
   ]
  },
  {
   "cell_type": "code",
   "execution_count": null,
   "id": "a976fa6c",
   "metadata": {},
   "outputs": [],
   "source": [
    "from sklearn.metrics.pairwise import cosine_similarity\n",
    "\n",
    "# Find subset of tfidf_df that does not include movies in list_of_movies_enjoyed\n",
    "tfidf_subset_df = tfidf_df.drop(list_of_movies_enjoyed, axis=0)\n",
    "\n",
    "# Calculate the cosine_similarity and wrap it in a DataFrame\n",
    "similarity_array = cosine_similarity(user_prof.values.reshape(1, -1), tfidf_subset_df)\n",
    "similarity_df = pd.DataFrame(similarity_array.T, index=tfidf_subset_df.index, columns=[\"similarity_score\"])\n",
    "\n",
    "# Sort the values from high to low by the values in the similarity_score\n",
    "sorted_similarity_df = similarity_df.sort_values(by=\"similarity_score\", ascending=False)\n",
    "\n",
    "# Inspect the most similar to the user preferences\n",
    "print(sorted_similarity_df.head())"
   ]
  },
  {
   "cell_type": "code",
   "execution_count": null,
   "id": "a22c692f",
   "metadata": {},
   "outputs": [],
   "source": [
    "'''\n",
    "                                similarity_score\n",
    "Title                                           \n",
    "21 Jump Street                          0.362488\n",
    "Thor                                    0.266075\n",
    "X-Men: First Class                      0.263540\n",
    "Transformers: Dark of the Moon          0.224254\n",
    "Beastly                                 0.179626\n",
    "\n",
    "'''"
   ]
  },
  {
   "cell_type": "raw",
   "id": "6ad137d3",
   "metadata": {},
   "source": [
    "Great job! As you can see, the top recommendations are all action-packed blockbusters, similar to those previously enjoyed by the user."
   ]
  },
  {
   "cell_type": "markdown",
   "id": "f30c5deb",
   "metadata": {},
   "source": [
    "# Collabrative Filtering  System "
   ]
  },
  {
   "cell_type": "markdown",
   "id": "0b9c5812",
   "metadata": {},
   "source": [
    "#### \"Note\" : Never ever fill the missing values with zeros , see the example to understand "
   ]
  },
  {
   "cell_type": "code",
   "execution_count": null,
   "id": "c370b364",
   "metadata": {},
   "outputs": [],
   "source": [
    "'''\n",
    "## Initial Dataframe \n",
    "\n",
    "Forrest Gump Pulp Fiction Toy Story The Matrix\n",
    "User_A           10            9         7       None\n",
    "User_B           10            9         7          0\n",
    "User_C           10            9         7          8\n",
    "\n",
    " *** User_B and C are both similar to User_A \n",
    "\n",
    "'''"
   ]
  },
  {
   "cell_type": "code",
   "execution_count": null,
   "id": "9a25ee4c",
   "metadata": {},
   "outputs": [],
   "source": [
    "'''\n",
    "### after you filled the value with zeros \n",
    "\n",
    "Forrest Gump Pulp Fiction Toy Story The Matrix\n",
    "User_A           10            9         7          0\n",
    "User_B           10            9         7          0\n",
    "User_C           10            9         7          8\n",
    "\n",
    " *** User_B similar to User_A , we missed User_A in the analogy , in this way we are skewing the data \n",
    "\n",
    "\n",
    "'''"
   ]
  },
  {
   "cell_type": "markdown",
   "id": "0fcd44a1",
   "metadata": {},
   "source": [
    "### Ideal way to fill the missing values "
   ]
  },
  {
   "cell_type": "code",
   "execution_count": null,
   "id": "362e44b7",
   "metadata": {},
   "outputs": [],
   "source": [
    "'''\n",
    "In [5]:\n",
    "user_ratings_table.head()\n",
    "Out[5]:\n",
    "\n",
    "title     Forrest Gump (1994)  Matrix, The (1999)  Pulp Fiction (1994)  Shawshank Redemption, The (1994)  Silence of the Lambs, The (1991)\n",
    "userId                                                                                                                                    \n",
    "user_001                  4.0                 5.0                  3.0                               NaN                               4.0\n",
    "user_002                  NaN                 NaN                  NaN                               3.0                               NaN\n",
    "user_004                  NaN                 1.0                  1.0                               NaN                               5.0\n",
    "user_005                  NaN                 NaN                  5.0                               3.0                               NaN\n",
    "user_006                  5.0                 NaN                  2.0                               5.0                               4.0\n",
    "\n",
    "'''\n"
   ]
  },
  {
   "cell_type": "code",
   "execution_count": null,
   "id": "e6fc8cf4",
   "metadata": {},
   "outputs": [],
   "source": [
    "# Get the average rating for each user \n",
    "avg_ratings = user_ratings_table.mean(axis=1)\n",
    "\n",
    "\n",
    "'''\n",
    "user_001    4.000000\n",
    "user_002    3.000000\n",
    "user_004    2.333333\n",
    "user_005    4.000000\n",
    "user_006    4.000000\n",
    "              ...   \n",
    "user_606    4.400000\n",
    "user_607    4.500000\n",
    "user_608    4.300000\n",
    "user_609    4.000000\n",
    "user_610    4.100000\n",
    "Length: 499, dtype: float64\n",
    "\n",
    "\n",
    "'''\n",
    "\n",
    "\n",
    "# Center each users ratings around 0\n",
    "user_ratings_table_centered = user_ratings_table.sub(avg_ratings, axis=0)\n",
    "\n",
    "'''\n",
    "\n",
    "In [7]:\n",
    "user_ratings_table_centered\n",
    "Out[7]:\n",
    "\n",
    "title     Forrest Gump (1994)  Matrix, The (1999)  Pulp Fiction (1994)  Shawshank Redemption, The (1994)  Silence of the Lambs, The (1991)\n",
    "userId                                                                                                                                    \n",
    "user_001                  0.0            1.000000            -1.000000                               NaN                          0.000000\n",
    "user_002                  NaN                 NaN                  NaN                               0.0                               NaN\n",
    "user_004                  NaN           -1.333333            -1.333333                               NaN                          2.666667\n",
    "user_005                  NaN                 NaN             1.000000                              -1.0    \n",
    "\n",
    "'''\n",
    "\n",
    "\n",
    "# Fill in the missing data with 0s\n",
    "user_ratings_table_normed = user_ratings_table_centered.fillna(0)\n",
    "\n",
    "\n",
    "'''\n",
    "\n",
    "title     Forrest Gump (1994)  Matrix, The (1999)  Pulp Fiction (1994)  Shawshank Redemption, The (1994)  Silence of the Lambs, The (1991)\n",
    "userId                                                                                                                                    \n",
    "user_001                  0.0            1.000000            -1.000000                               0.0                          0.000000\n",
    "user_002                  0.0            0.000000             0.000000                               0.0                          0.000000\n",
    "user_004                  0.0           -1.333333            -1.333333                               0.0                          2.666667\n",
    "user_005                  0.0            0.000000             1.000000                              -1.0                          0.000000\n",
    "user_006                  1.0            0.000000            -2.000000                               1.0   \n",
    "\n",
    "\n",
    "'''\n",
    "\n",
    "\n"
   ]
  },
  {
   "cell_type": "markdown",
   "id": "6219d225",
   "metadata": {},
   "source": [
    "### Similar Movie & DIfferent Movie"
   ]
  },
  {
   "cell_type": "code",
   "execution_count": null,
   "id": "a19c68b4",
   "metadata": {},
   "outputs": [],
   "source": [
    "from sklearn.metrics.pairwise import cosine_similarity\n",
    "\n",
    "# Assign the arrays to variables\n",
    "sw_IV = movie_ratings_centered.loc['Star Wars: Episode IV - A New Hope (1977)', :].values.reshape(1, -1)\n",
    "sw_V = movie_ratings_centered.loc['Star Wars: Episode V - The Empire Strikes Back (1980)', :].values.reshape(1, -1)\n",
    "\n",
    "# Find the similarity between two Star Wars movies\n",
    "similarity_A = cosine_similarity(sw_IV, sw_V) ## 0.53\n",
    "\n",
    "# Assign the arrays to variables\n",
    "jurassic_park = movie_ratings_centered.loc['Jurassic Park (1993)', :].values.reshape(1, -1)\n",
    "pulp_fiction = movie_ratings_centered.loc['Pulp Fiction (1994)', :].values.reshape(1, -1)\n",
    "\n",
    "# Find the similarity between Pulp Fiction and Jurassic Park\n",
    "similarity_B = cosine_similarity(jurassic_park, pulp_fiction)\n",
    "print(similarity_B)## -0.25 "
   ]
  },
  {
   "cell_type": "markdown",
   "id": "39434c6c",
   "metadata": {},
   "source": [
    "## Scaling it to total list "
   ]
  },
  {
   "cell_type": "code",
   "execution_count": null,
   "id": "9ddcbaaf",
   "metadata": {},
   "outputs": [],
   "source": [
    "from sklearn.metrics.pairwise import cosine_similarity\n",
    "\n",
    "# Generate the similarity matrix\n",
    "similarities = cosine_similarity(movie_ratings_centered)\n",
    "\n",
    "# Wrap the similarities in a DataFrame\n",
    "cosine_similarity_df = pd.DataFrame(similarities, index=movie_ratings_centered.index, columns=movie_ratings_centered.index)\n",
    "\n",
    "# Find the similarity values for a specific movie\n",
    "cosine_similarity_series = cosine_similarity_df.loc['Star Wars: Episode IV - A New Hope (1977)']\n",
    "\n",
    "# Sort these values highest to lowest\n",
    "ordered_similarities = cosine_similarity_series.sort_values(ascending=False)\n",
    "\n",
    "print(ordered_similarities)"
   ]
  },
  {
   "cell_type": "code",
   "execution_count": null,
   "id": "9d189c64",
   "metadata": {},
   "outputs": [],
   "source": [
    "'''\n",
    "In [6]: ### Movie Recomendation:: Star Wars: Episode IV - A New Hope (1977)\n",
    "ordered_similarities.head()\n",
    "Out[6]:\n",
    "\n",
    "title\n",
    "Star Wars: Episode IV - A New Hope (1977)                                         1.000000\n",
    "Star Wars: Episode V - The Empire Strikes Back (1980)                             0.535705\n",
    "Raiders of the Lost Ark (Indiana Jones and the Raiders of the Lost Ark) (1981)    0.078400\n",
    "Lord of the Rings: The Fellowship of the Ring, The (2001)                         0.020582\n",
    "Schindler's List (1993)                                                           0.013602\n",
    "Name: Star Wars: Episode IV - A New Hope (1977), dtype: float64\n",
    "\n",
    "'''"
   ]
  },
  {
   "cell_type": "markdown",
   "id": "31f1f8a5",
   "metadata": {},
   "source": [
    "# K-Nearest Neighbours : how K-nearest neighbors can be used to infer how someone might rate an item based on the wisdom of a (similar) crowd. "
   ]
  },
  {
   "cell_type": "code",
   "execution_count": null,
   "id": "a48d7e8d",
   "metadata": {},
   "outputs": [],
   "source": [
    "'''\n",
    "user_similarities\n",
    "Out[1]:\n",
    "\n",
    "userId    user_001  user_002  user_003  user_004  user_005  ...  user_606  user_607  user_608  user_609  user_610\n",
    "userId                                                      ...                                                  \n",
    "user_001  1.000000       0.0       0.0  0.187234 -0.164525  ...  0.376280  0.029487  0.312335 -0.176184  0.133835\n",
    "user_002  0.000000       0.0       0.0  0.000000  0.000000  ...  0.000000  0.000000  0.000000  0.000000  0.000000\n",
    "user_003  0.000000       0.0       0.0  0.000000  0.000000  ...  0.000000  0.000000  0.000000  0.000000  0.000000\n",
    "user_004  0.187234       0.0       0.0  1.000000 -0.223980  ... -0.040776 -0.249841 -0.271438 -0.200643 -0.217601\n",
    "user_005 -0.164525       0.0       0.0 -0.223980  1.000000  ...  0.355365 -0.233540  0.369204  0.237733  0.050241\n",
    "...            ...       ...       ...       ...       ...  ...       ...       ...       ...       ...       ...\n",
    "user_606  0.376280       0.0       0.0 -0.040776  0.355365  ...  1.000000 -0.074804  0.596448  0.352719  0.018341\n",
    "user_607  0.029487       0.0       0.0 -0.249841 -0.233540  ... -0.074804  1.000000 -0.123081 -0.154813 -0.238457\n",
    "user_608  0.312335       0.0       0.0 -0.271438  0.369204  ...  0.596448 -0.123081  1.000000  0.443575  0.034959\n",
    "user_609 -0.176184       0.0       0.0 -0.200643  0.237733  ...  0.352719 -0.154813  0.443575  1.000000 -0.475666\n",
    "user_610  0.133835       0.0       0.0 -0.217601  0.050241  ...  0.018341 -0.238457  0.034959 -0.475666  1.000000\n",
    "\n",
    "[569 rows x 569 columns]\n",
    "'''"
   ]
  },
  {
   "cell_type": "code",
   "execution_count": null,
   "id": "26b524dc",
   "metadata": {},
   "outputs": [],
   "source": [
    "'''\n",
    "user_ratings_table:\n",
    "\n",
    "title     Star Wars: Episode V - The Empire Strikes Back (1980)  Terminator 2: Judgment Day (1991)  Toy Story (1995)  Usual Suspects, The (1995)  \n",
    "userId                                                                                                                                            \n",
    "user_001                                                5.0                                    NaN               4.0                         5.0  \n",
    "user_002                                                NaN                                    NaN               NaN                         NaN  \n",
    "user_003                                                NaN                                    NaN               NaN                         NaN  \n",
    "user_004                                                5.0                                    NaN               NaN                         NaN  \n",
    "user_005                                                NaN                                    3.0               4.0                         4.0  \n",
    "...                                                     ...                                    ...               ...                         ...  \n",
    "user_606                                                4.5                                    3.5               2.5                         4.5  \n",
    "user_607                                                3.0                                    4.0               4.0                         NaN  \n",
    "user_608                                                4.0                                    3.0               2.5                         4.5  \n",
    "user_609                                                NaN                                    3.0               3.0                         NaN  \n",
    "user_610                                                5.0                                    5.0               5.0                         4.0  \n",
    "\n",
    "[569 rows x 20 columns]\n",
    "\n",
    "'''"
   ]
  },
  {
   "cell_type": "code",
   "execution_count": null,
   "id": "e969a03f",
   "metadata": {},
   "outputs": [],
   "source": [
    "# Isolate the similarity scores for user_1 and sort them\n",
    "user_similarity_series = user_similarities.loc['user_001']\n",
    "ordered_similarities = user_similarity_series.sort_values(ascending=False)\n"
   ]
  },
  {
   "cell_type": "code",
   "execution_count": null,
   "id": "e2e67ed8",
   "metadata": {},
   "outputs": [],
   "source": [
    "'''\n",
    "Out[3]:\n",
    "\n",
    "userId\n",
    "user_001    1.000000\n",
    "user_282    0.643255\n",
    "user_246    0.627894\n",
    "user_552    0.627510\n",
    "user_057    0.609214\n",
    "              ...   \n",
    "user_575   -0.501965\n",
    "user_501   -0.501965\n",
    "user_402   -0.506469\n",
    "user_482   -0.579619\n",
    "user_318   -0.594879\n",
    "'''"
   ]
  },
  {
   "cell_type": "code",
   "execution_count": null,
   "id": "d98a951b",
   "metadata": {},
   "outputs": [],
   "source": [
    "# Find the top 10 most similar users\n",
    "nearest_neighbors = ordered_similarities[1:11].index"
   ]
  },
  {
   "cell_type": "code",
   "execution_count": null,
   "id": "105cadb1",
   "metadata": {},
   "outputs": [],
   "source": [
    "'''\n",
    "In [10]:\n",
    "nearest_neighbors\n",
    "Out[10]:\n",
    "Index(['user_282', 'user_246', 'user_552', 'user_057', 'user_210', 'user_332', 'user_339', 'user_072', 'user_597', 'user_312'], dtype='object', name='userId')\n",
    "\n",
    "'''"
   ]
  },
  {
   "cell_type": "code",
   "execution_count": null,
   "id": "0e089a7c",
   "metadata": {},
   "outputs": [],
   "source": [
    "# Extract the ratings of the neighbors\n",
    "neighbor_ratings = user_ratings_table.reindex(nearest_neighbors)"
   ]
  },
  {
   "cell_type": "code",
   "execution_count": null,
   "id": "36a3a46e",
   "metadata": {},
   "outputs": [],
   "source": [
    "'''\n",
    "neighbor_ratings\n",
    "Out[12]:\n",
    "\n",
    "title     American Beauty (1999)  Apollo 13 (1995)  Braveheart (1995)  Fight Club (1999)  Forrest Gump (1994)  ...  Star Wars: Episode IV - A New Hope (1977)  \\\n",
    "userId                                                                                                         ...                                              \n",
    "user_282                     4.5               4.5                NaN                4.5                  4.5  ...                                        4.0   \n",
    "user_246                     NaN               NaN                NaN                4.0                  3.5  ...                                        5.0   \n",
    "user_552                     NaN               NaN                NaN                4.5                  4.0  ...                                        NaN   \n",
    "user_057                     5.0               3.0                4.0                NaN                  4.0  ...                                        5.0   \n",
    "user_210                     NaN               NaN                NaN                NaN                  NaN  ...                                        5.0   \n",
    "user_332                     4.5               3.5                3.5                4.5                  4.5  ...                                        NaN   \n",
    "user_339                     5.0               4.0                NaN                4.0                  4.0  ...                                        NaN   \n",
    "user_072                     4.5               4.0                4.5                NaN                  4.0  ...                                        5.0   \n",
    "user_597                     5.0               NaN                5.0                NaN                  5.0  ...                                        5.0   \n",
    "user_312                     NaN               NaN                4.0                NaN                  4.0  ...                                        5.0   \n",
    "\n",
    "title     Star Wars: Episode V - The Empire Strikes Back (1980)  Terminator 2: Judgment Day (1991)  Toy Story (1995)  Usual Suspects, The (1995)  \n",
    "userId                                                                                                                                            \n",
    "user_282                                                NaN                                    4.5               4.5                         4.5  \n",
    "user_246                                                5.0                                    5.0               NaN                         4.5  \n",
    "user_552                                                5.0                                    NaN               NaN                         NaN  \n",
    "user_057                                                4.0                                    4.0               5.0                         5.0  \n",
    "user_210                                                5.0                                    4.0               NaN                         NaN  \n",
    "user_332                                                4.5                                    3.5               4.0                         4.0  \n",
    "user_339                                                NaN                                    NaN               4.0                         NaN  \n",
    "user_072                                                4.5                                    4.5               NaN                         4.5  \n",
    "user_597                                                5.0                                    5.0               4.0                         5.0  \n",
    "user_312                                                5.0                                    4.0               NaN                         NaN  \n",
    "\n",
    "[10 rows x 20 columns]\n",
    "\n",
    "'''"
   ]
  },
  {
   "cell_type": "code",
   "execution_count": null,
   "id": "c683a5cb",
   "metadata": {},
   "outputs": [],
   "source": [
    "# Calculate the mean rating given by the users nearest neighbors\n",
    "print(neighbor_ratings['Apollo 13 (1995)'].mean())\n",
    "\n",
    "## 3.8 "
   ]
  },
  {
   "cell_type": "markdown",
   "id": "927ff60d",
   "metadata": {},
   "source": [
    "\n",
    "# KNN predictions\n",
    "With the data in the correct shape from the last exercise, you can now use it to infer how user_001 feels about Apollo 13 (1995)\n",
    "\n",
    "As a reminder, the data you prepared in the last exercise (and have been loaded into this one) are:\n",
    "\n",
    " > target_user_x - Centered ratings that user_001 has given to the movies they have seen.\n",
    " > other_users_x - Centered ratings for all other users and the movies they have rated excluding the movie Apollo 13.\n",
    " > other_users_y - Raw ratings that all other users have given the movie Apollo 13.\n",
    "You will use other_users_x and other_users_y to fit a KNeighborsRegressor from scikit-learn and use it to predict what user_001 might have rated Apollo 13 (1995).\n"
   ]
  },
  {
   "cell_type": "code",
   "execution_count": null,
   "id": "4d0afd01",
   "metadata": {},
   "outputs": [],
   "source": [
    "# Instantiate the user KNN model\n",
    "user_knn = KNeighborsRegressor()\n",
    "\n",
    "# Fit the model and predict the target user\n",
    "user_knn.fit(other_users_x, other_users_y)\n",
    "user_user_pred = user_knn.predict(target_user_x)\n",
    "print(\"The user-user model predicts {}\".format(user_user_pred))\n",
    "\n",
    "# Instantiate the user KNN model\n",
    "movie_knn = KNeighborsRegressor()\n",
    "\n",
    "# Fit the model on the movie data and predict\n",
    "movie_knn.fit(other_movies_x, other_movies_y)\n",
    "item_item_pred = movie_knn.predict(target_movie_x)\n",
    "print(\"The item-item model predicts {}\".format(item_item_pred))\n",
    "\n"
   ]
  },
  {
   "cell_type": "code",
   "execution_count": null,
   "id": "056ae420",
   "metadata": {},
   "outputs": [],
   "source": [
    "'''\n",
    "<script.py> output:\n",
    "    The user-user model predicts [4.5]\n",
    "    The item-item model predicts [4.1]\n",
    "'''"
   ]
  }
 ],
 "metadata": {
  "kernelspec": {
   "display_name": "Python 3",
   "language": "python",
   "name": "python3"
  },
  "language_info": {
   "codemirror_mode": {
    "name": "ipython",
    "version": 3
   },
   "file_extension": ".py",
   "mimetype": "text/x-python",
   "name": "python",
   "nbconvert_exporter": "python",
   "pygments_lexer": "ipython3",
   "version": "3.8.8"
  }
 },
 "nbformat": 4,
 "nbformat_minor": 5
}
