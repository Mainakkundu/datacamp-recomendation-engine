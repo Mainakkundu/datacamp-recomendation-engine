{
 "cells": [
  {
   "cell_type": "markdown",
   "id": "223731bb",
   "metadata": {},
   "source": [
    "# Finding the Non-personalized Recomendation:\n",
    "Finding all pairs of movies\n",
    "In this exercise, you will work through how to find all pairs of movies or all permutations of pairs of movies that have been watched by the same person.\n",
    "\n",
    "The user_ratings_df has been loaded once again containing users, and the movies they have seen.\n",
    "\n",
    "You will need to first create a function that finds all possible pairs of items in a list it is applied to. For ease of use, you will output the values of this as a DataFrame. Since you only want to find movies that have been seen by the same person and not all possible permutations, you will group by user_id when applying the function."
   ]
  },
  {
   "cell_type": "raw",
   "id": "2ac93968",
   "metadata": {},
   "source": [
    "### Input Data \n",
    "user_ratings_df.head()\n",
    "Out[1]:\n",
    "\n",
    "   userId     title\n",
    "0       6  Bad Boys\n",
    "1      18  Bad Boys\n",
    "2      21  Bad Boys\n",
    "3      28  Bad Boys\n",
    "4      34  Bad Boys"
   ]
  },
  {
   "cell_type": "code",
   "execution_count": null,
   "id": "1c5edd3a",
   "metadata": {},
   "outputs": [],
   "source": [
    "from itertools import permutations\n",
    "\n",
    "# Create the function to find all permutations\n",
    "def find_movie_pairs(x):\n",
    "  pairs = pd.DataFrame(list(permutations(x.values, 2)),\n",
    "                       columns=['movie_a', 'movie_b'])\n",
    "  return pairs\n",
    "\n",
    "# Apply the function to the title column and reset the index\n",
    "movie_combinations = user_ratings_df.groupby('userId')['title'].apply(find_movie_pairs).reset_index(drop=True)\n",
    "\n",
    "print(movie_combinations)"
   ]
  },
  {
   "cell_type": "raw",
   "id": "d9fbdd1b",
   "metadata": {},
   "source": [
    " movie_a                          movie_b\n",
    "0          Bad Boys                             Thor\n",
    "1              Thor                         Bad Boys\n",
    "2          Bad Boys                   21 Jump Street\n",
    "3    21 Jump Street                         Bad Boys\n",
    "4              Thor  Avengers: Infinity War - Part I\n",
    "..              ...                              ...\n",
    "407            Thor                           Cars 2\n",
    "408     Bridesmaids                             Thor\n",
    "409     Bridesmaids                           Cars 2\n",
    "410          Cars 2                             Thor\n",
    "411          Cars 2                      Bridesmaids"
   ]
  },
  {
   "cell_type": "markdown",
   "id": "6a2a8e1a",
   "metadata": {},
   "source": [
    "##  Counting up the pairs\n",
    "You can now create DataFrame of all the permutations of movies that have been watched by the same user. This is of limited use unless you can find which movies are most commonly paired.\n",
    "\n",
    "In this exercise, you will work with the movie_combinations DataFrame that you created in the last exercise (that has been loaded for you), and generate a new DataFrame containing the counts of occurrences of each of the pairs within."
   ]
  },
  {
   "cell_type": "code",
   "execution_count": null,
   "id": "0d524ccd",
   "metadata": {},
   "outputs": [],
   "source": [
    "# Calculate how often each item in movie_a occurs with the items in movie_b\n",
    "combination_counts = movie_combinations.groupby(['movie_a', 'movie_b']).size()\n",
    "\n",
    "# Convert the results to a DataFrame and reset the index\n",
    "combination_counts_df = combination_counts.to_frame(name='size').reset_index()\n",
    "print(combination_counts_df.head())"
   ]
  },
  {
   "cell_type": "code",
   "execution_count": null,
   "id": "ba10e087",
   "metadata": {},
   "outputs": [],
   "source": [
    "          movie_a |                         movie_b | size\n",
    "0  21 Jump Street |          Atlas Shrugged: Part 1 |    1\n",
    "1  21 Jump Street | Avengers: Infinity War - Part I |    3\n",
    "2  21 Jump Street |                        Bad Boys |    7\n",
    "3  21 Jump Street |                    Bad Teacher  |    8\n",
    "4  21 Jump Street |             Battle: Los Angeles |    2"
   ]
  }
 ],
 "metadata": {
  "kernelspec": {
   "display_name": "Python 3",
   "language": "python",
   "name": "python3"
  },
  "language_info": {
   "codemirror_mode": {
    "name": "ipython",
    "version": 3
   },
   "file_extension": ".py",
   "mimetype": "text/x-python",
   "name": "python",
   "nbconvert_exporter": "python",
   "pygments_lexer": "ipython3",
   "version": "3.8.8"
  }
 },
 "nbformat": 4,
 "nbformat_minor": 5
}
