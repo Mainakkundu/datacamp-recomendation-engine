{
 "cells": [
  {
   "cell_type": "markdown",
   "id": "62e46d1f",
   "metadata": {},
   "source": [
    "# Finding the Non-personalized Recomendation:\n",
    "Finding all pairs of movies\n",
    "In this exercise, you will work through how to find all pairs of movies or all permutations of pairs of movies that have been watched by the same person.\n",
    "\n",
    "The user_ratings_df has been loaded once again containing users, and the movies they have seen.\n",
    "\n",
    "You will need to first create a function that finds all possible pairs of items in a list it is applied to. For ease of use, you will output the values of this as a DataFrame. Since you only want to find movies that have been seen by the same person and not all possible permutations, you will group by user_id when applying the function."
   ]
  },
  {
   "cell_type": "raw",
   "id": "061063d5",
   "metadata": {},
   "source": [
    "### Input Data \n",
    "user_ratings_df.head()\n",
    "Out[1]:\n",
    "\n",
    "   userId     title\n",
    "0       6  Bad Boys\n",
    "1      18  Bad Boys\n",
    "2      21  Bad Boys\n",
    "3      28  Bad Boys\n",
    "4      34  Bad Boys"
   ]
  },
  {
   "cell_type": "code",
   "execution_count": null,
   "id": "f8abb805",
   "metadata": {},
   "outputs": [],
   "source": [
    "from itertools import permutations\n",
    "\n",
    "# Create the function to find all permutations\n",
    "def find_movie_pairs(x):\n",
    "  pairs = pd.DataFrame(list(permutations(x.values, 2)),\n",
    "                       columns=['movie_a', 'movie_b'])\n",
    "  return pairs\n",
    "\n",
    "# Apply the function to the title column and reset the index\n",
    "movie_combinations = user_ratings_df.groupby('userId')['title'].apply(find_movie_pairs).reset_index(drop=True)\n",
    "\n",
    "print(movie_combinations)"
   ]
  },
  {
   "cell_type": "raw",
   "id": "61dedae7",
   "metadata": {},
   "source": [
    " movie_a                          movie_b\n",
    "0          Bad Boys                             Thor\n",
    "1              Thor                         Bad Boys\n",
    "2          Bad Boys                   21 Jump Street\n",
    "3    21 Jump Street                         Bad Boys\n",
    "4              Thor  Avengers: Infinity War - Part I\n",
    "..              ...                              ...\n",
    "407            Thor                           Cars 2\n",
    "408     Bridesmaids                             Thor\n",
    "409     Bridesmaids                           Cars 2\n",
    "410          Cars 2                             Thor\n",
    "411          Cars 2                      Bridesmaids"
   ]
  },
  {
   "cell_type": "markdown",
   "id": "6740667d",
   "metadata": {},
   "source": [
    "##  Counting up the pairs\n",
    "You can now create DataFrame of all the permutations of movies that have been watched by the same user. This is of limited use unless you can find which movies are most commonly paired.\n",
    "\n",
    "In this exercise, you will work with the movie_combinations DataFrame that you created in the last exercise (that has been loaded for you), and generate a new DataFrame containing the counts of occurrences of each of the pairs within."
   ]
  },
  {
   "cell_type": "code",
   "execution_count": null,
   "id": "85febb52",
   "metadata": {},
   "outputs": [],
   "source": [
    "# Calculate how often each item in movie_a occurs with the items in movie_b\n",
    "combination_counts = movie_combinations.groupby(['movie_a', 'movie_b']).size()\n",
    "\n",
    "# Convert the results to a DataFrame and reset the index\n",
    "combination_counts_df = combination_counts.to_frame(name='size').reset_index()\n",
    "print(combination_counts_df.head())"
   ]
  },
  {
   "cell_type": "code",
   "execution_count": null,
   "id": "8e2cd076",
   "metadata": {},
   "outputs": [],
   "source": [
    "          movie_a |                         movie_b | size\n",
    "0  21 Jump Street |          Atlas Shrugged: Part 1 |    1\n",
    "1  21 Jump Street | Avengers: Infinity War - Part I |    3\n",
    "2  21 Jump Street |                        Bad Boys |    7\n",
    "3  21 Jump Street |                    Bad Teacher  |    8\n",
    "4  21 Jump Street |             Battle: Los Angeles |    2"
   ]
  },
  {
   "cell_type": "markdown",
   "id": "b76cb138",
   "metadata": {},
   "source": [
    "## Making your first movie recommendations\n",
    "Now that you have found the most commonly paired movies, you can make your first recommendations!\n",
    "\n",
    "While you are not taking in any information about the person watching, and do not even know any details about the movie, valuable recommendations can still be made by examining what groups of movies are watched by the same people. In this exercise, you will examine the movies often watched by the same people that watched Thor, and then use this data to give a recommendation to someone who just watched the movie. The DataFrame you generated in the last lesson, combination_counts_df, that contains counts of how often movies are watched together has been loaded for you."
   ]
  },
  {
   "cell_type": "code",
   "execution_count": null,
   "id": "1a75eb74",
   "metadata": {},
   "outputs": [],
   "source": [
    "import matplotlib.pyplot as plt\n",
    "\n",
    "# Sort the counts from highest to lowest\n",
    "combination_counts_df.sort_values('size', ascending=False, inplace=True)\n",
    "\n",
    "# Find the movies most frequently watched by people who watched Thor\n",
    "thor_df = combination_counts_df[combination_counts_df['movie_a'] == 'Thor']\n",
    "\n",
    "# Plot the results\n",
    "thor_df.plot.bar(x=\"movie_b\")\n",
    "plt.show()"
   ]
  },
  {
   "cell_type": "code",
   "execution_count": null,
   "id": "ac76c241",
   "metadata": {},
   "outputs": [],
   "source": [
    "In [2]:\n",
    "thor_df\n",
    "Out[2]:\n",
    "\n",
    "    movie_a                          movie_b  size\n",
    "137    Thor                   21 Jump Street    12\n",
    "147    Thor                    Green Lantern    10\n",
    "143    Thor                      Bridesmaids     9\n",
    "140    Thor                         Bad Boys     8\n",
    "141    Thor                      Bad Teacher     6\n",
    "139    Thor  Avengers: Infinity War - Part I     6\n",
    "142    Thor              Battle: Los Angeles     4\n",
    "146    Thor                           Cars 2     2\n",
    "145    Thor                          Carnage     2\n",
    "144    Thor                  Captain America     2\n",
    "148    Thor                              Rio     2\n",
    "138    Thor           Atlas Shrugged: Part 1     1"
   ]
  },
  {
   "cell_type": "markdown",
   "id": "4485807d",
   "metadata": {},
   "source": [
    "## Inference - \n",
    "Good work! You can see that 21 Jump Street was the most commonly watched movie by those who watched Thor. This means that it would be a good movie to recommend Thor watchers as it shows they have similar fans."
   ]
  },
  {
   "cell_type": "markdown",
   "id": "2486c010",
   "metadata": {},
   "source": [
    "# Content Based Recomendation "
   ]
  },
  {
   "cell_type": "code",
   "execution_count": null,
   "id": "a3ce14ca",
   "metadata": {},
   "outputs": [],
   "source": [
    "# Select only the rows with values in the name column equal to Toy Story\n",
    "toy_story_genres = movie_genre_df[movie_genre_df['name'] == 'Toy Story']\n"
   ]
  },
  {
   "cell_type": "code",
   "execution_count": null,
   "id": "45821724",
   "metadata": {},
   "outputs": [],
   "source": [
    "\"\"\"\n",
    "movie_genre_df.head(2)\n",
    "\n",
    "\n",
    "        name genre_list\n",
    "0  Toy Story  Adventure\n",
    "1  Toy Story  Animation\n",
    "\"\"\""
   ]
  },
  {
   "cell_type": "code",
   "execution_count": null,
   "id": "0fbc43d6",
   "metadata": {},
   "outputs": [],
   "source": [
    "# Create cross-tabulated DataFrame from name and genre_list columns\n",
    "movie_cross_table = pd.crosstab(movie_genre_df['name'], movie_genre_df['genre_list'])"
   ]
  },
  {
   "cell_type": "code",
   "execution_count": null,
   "id": "4295842f",
   "metadata": {},
   "outputs": [],
   "source": [
    "\"\"\"\n",
    "movie_cross_table\n",
    "\n",
    "\n",
    "genre_list                      Action  Adventure  Animation  Children  Comedy  ...  Drama  Fantasy  Horror  Romance  Thriller\n",
    "name                                                                            ...                                           \n",
    "Ace Ventura: When Nature Calls       0          0          0         0       1  ...      0        0       0        0         0\n",
    "American President, The              0          0          0         0       1  ...      1        0       0        1         0\n",
    "Balto                                0          1          1         1       0  ...      0        0       0        0         0\n",
    "\"\"\""
   ]
  },
  {
   "cell_type": "code",
   "execution_count": null,
   "id": "030c5d0e",
   "metadata": {},
   "outputs": [],
   "source": [
    "# Select only the rows with Toy Story as the index\n",
    "toy_story_genres_ct = movie_cross_table[movie_cross_table.index == 'Toy Story']\n",
    "print(toy_story_genres_ct)"
   ]
  },
  {
   "cell_type": "code",
   "execution_count": null,
   "id": "d1936dfe",
   "metadata": {},
   "outputs": [],
   "source": [
    "\"\"\"\n",
    "In [7]:\n",
    "toy_story_genres_ct\n",
    "Out[7]:\n",
    "\n",
    "genre_list  Action  Adventure  Animation  Children  Comedy  ...  Drama  Fantasy  Horror  Romance  Thriller\n",
    "name                                                        ...                                           \n",
    "Toy Story        0          1          1         1       1  ...      0        1       0        0         0\n",
    "\n",
    "\"\"\""
   ]
  },
  {
   "cell_type": "raw",
   "id": "d9a70b4b",
   "metadata": {},
   "source": [
    "Good work! This newly formatted table with a vector contained in a row per movie and a column per feature will allow you to calculate distances and similarities between movies."
   ]
  },
  {
   "cell_type": "raw",
   "id": "899a812e",
   "metadata": {},
   "source": [
    "\n",
    "movie_cross_table[\n",
    "movie_cross_table.index=='Yogi Bear' ]\n",
    "Out[2]:\n",
    "\n",
    "genre_list  Action  Adventure  Animation  Children  Comedy  Crime\n",
    "name                                                             \n",
    "Yogi Bear        0          0          0         1       1      0\n",
    "In [3]:\n",
    "\n",
    "movie_cross_table[\n",
    "movie_cross_table.index=='Toy Story' ]\n",
    "Out[3]:\n",
    "\n",
    "genre_list  Action  Adventure  Animation  Children  Comedy  Crime\n",
    "name                                                             \n",
    "Toy Story        0          1          1         1       1      0"
   ]
  },
  {
   "cell_type": "markdown",
   "id": "b653f9a1",
   "metadata": {},
   "source": [
    "## Comparing individual movies with Jaccard similarity\n",
    "In the last lesson, you built a DataFrame of movies, where each column represents a different genre. You can now use this DataFrame to compare movies by measuring the Jaccard similarity between rows. The higher the Jaccard similarity score, the more similar the two items are.\n",
    "\n",
    "In this exercise, you will compare the movie GoldenEye with the movie Toy Story, and GoldenEye with SkyFall and compare the results.\n",
    "\n",
    "The DataFrame movie_cross_table containing all the movies as rows and the genres as Boolean columns that you created in the last lesson has been loaded."
   ]
  },
  {
   "cell_type": "code",
   "execution_count": null,
   "id": "33cb77fb",
   "metadata": {},
   "outputs": [],
   "source": [
    "# Import numpy and the distance metric\n",
    "import numpy as np\n",
    "from sklearn.metrics import jaccard_score\n",
    "\n",
    "# Extract just the rows containing GoldenEye and Toy Story\n",
    "goldeneye_values = movie_cross_table.loc['GoldenEye'].values\n",
    "toy_story_values = movie_cross_table.loc['Toy Story'].values\n",
    "\n",
    "# Find the similarity between GoldenEye and Toy Story\n",
    "print(jaccard_score(goldeneye_values, toy_story_values))\n",
    "\n",
    "# Repeat for GoldenEye and Skyfall\n",
    "skyfall_values = movie_cross_table.loc['Skyfall'].values\n",
    "print(jaccard_score(goldeneye_values, skyfall_values))"
   ]
  },
  {
   "cell_type": "raw",
   "id": "680a6bdd",
   "metadata": {},
   "source": [
    "0.14285714285714285\n",
    "0.75"
   ]
  },
  {
   "cell_type": "markdown",
   "id": "51f56e85",
   "metadata": {},
   "source": [
    "## Comparing all your movies at once\n",
    "While finding the Jaccard similarity between any two individual movies in your dataset is great for small-scale analyses, it can prove slow on larger datasets to make recommendations.\n",
    "\n",
    "In this exercise, you will find the similarities between all movies and store them in a DataFrame for quick and easy lookup.\n",
    "\n",
    "When finding the similarities between the rows in a DataFrame, you could run through all pairs and calculate them individually, but it's more efficient to use the pdist() (pairwise distance) function from scipy.\n",
    "\n",
    "This can be reshaped into the desired rectangular shape using squareform() from the same library. Since you want similarity values as opposed to distances, you should subtract the values from 1.\n",
    "\n",
    "movie_cross_table has once again been loaded for you."
   ]
  },
  {
   "cell_type": "code",
   "execution_count": null,
   "id": "65106009",
   "metadata": {},
   "outputs": [],
   "source": [
    "# Import functions from scipy\n",
    "from scipy.spatial.distance import pdist, squareform\n",
    "\n",
    "# Calculate all pairwise distances\n",
    "jaccard_distances = pdist(movie_cross_table.values, metric='jaccard')\n",
    "\n",
    "# Convert the distances to a square matrix\n",
    "jaccard_similarity_array = 1 -  squareform(jaccard_distances)\n",
    "\n",
    "# Wrap the array in a pandas DataFrame\n",
    "jaccard_similarity_df = pd.DataFrame(jaccard_similarity_array, index=movie_cross_table.index, columns=movie_cross_table.index)\n",
    "\n",
    "# Print the top 5 rows of the DataFrame\n",
    "print(jaccard_similarity_df.head())"
   ]
  },
  {
   "cell_type": "code",
   "execution_count": null,
   "id": "8c6fd0d2",
   "metadata": {},
   "outputs": [],
   "source": [
    "'''\n",
    "\n",
    "____ Output :: \n",
    "\n",
    "name                                  21 Jump Street  Alvin and the Chipmunks: Chipwrecked  Another Earth  Beastly  Bridesmaids  ...    Cars 2  Green Lantern  Oldboy       Rio      Thor\n",
    "name                                                                                                                             ...                                                     \n",
    "21 Jump Street                              1.000000                                  0.25            0.0      0.0     0.333333  ...  0.142857            0.2     0.2  0.166667  0.142857\n",
    "Alvin and the Chipmunks: Chipwrecked        0.250000                                  1.00            0.0      0.0     0.500000  ...  0.400000            0.0     0.0  0.500000  0.000000\n",
    "Another Earth                               0.000000                                  0.00            1.0      0.5     0.000000  ...  0.000000            0.2     0.2  0.000000  0.142857\n",
    "Beastly                                     0.000000                                  0.00            0.5      1.0     0.000000  ...  0.000000            0.0     0.2  0.000000  0.333333\n",
    "Bridesmaids                                 0.333333                                  0.50            0.0      0.0     1.000000  ...  0.200000            0.0     0.0  0.250000  0.000000\n",
    "\n",
    "'''"
   ]
  },
  {
   "cell_type": "code",
   "execution_count": null,
   "id": "4acfbbd0",
   "metadata": {},
   "outputs": [],
   "source": [
    "## Recommend a Movie similar to Thor \n",
    "# Wrap the preloaded array in a DataFrame\n",
    "jaccard_similarity_df = pd.DataFrame(jaccard_similarity_array, index=movie_cross_table.index, columns=movie_cross_table.index)\n",
    "\n",
    "# Find the values for the movie Thor\n",
    "jaccard_similarity_series = jaccard_similarity_df.loc['Thor']\n",
    "\n",
    "# Sort these values from highest to lowest\n",
    "ordered_similarities = jaccard_similarity_series.sort_values(ascending=False)\n",
    "\n",
    "# Print the results\n",
    "print(ordered_similarities)"
   ]
  },
  {
   "cell_type": "code",
   "execution_count": null,
   "id": "87e5d256",
   "metadata": {},
   "outputs": [],
   "source": [
    "'''\n",
    "name\n",
    "Thor                                    1.000000\n",
    "Green Lantern                           0.333333\n",
    "Cars 2                                  0.250000\n",
    "Captain America: The First Avenger      0.250000\n",
    "Carnage                                 0.166667\n",
    "Another Earth                           0.142857\n",
    "21 Jump Street                          0.142857\n",
    "Rio                                     0.125000\n",
    "Bridesmaids                             0.000000\n",
    "Alvin and the Chipmunks: Chipwrecked    0.000000\n",
    "\n",
    "'''"
   ]
  },
  {
   "cell_type": "markdown",
   "id": "8c946627",
   "metadata": {},
   "source": [
    "## Content-Based using Text Features "
   ]
  },
  {
   "cell_type": "code",
   "execution_count": null,
   "id": "67ed607b",
   "metadata": {},
   "outputs": [],
   "source": [
    "'''\n",
    "df_plots\n",
    "\n",
    "\n",
    "                             Title                                               Plot\n",
    "0   Ace Ventura: When Nature Calls  In the Himalayas, after a failed rescue missio...\n",
    "1      Dracula: Dead and Loving It  Solicitor Thomas Renfield travels all the way ...\n",
    "2      Father of the Bride Part II  The film begins five years after the events of...\n",
    "3                       Four Rooms  The film is set on New Year's Eve, and starts ...\n",
    "4                 Grumpier Old Men  The feud between Max (Walter Matthau) and John...\n",
    "5                          Jumanji  In 1869, near Brantford, New Hampshire, two br...\n",
    "6                     Sudden Death  Darren McCord (Jean-Claude Van Damme) is a Fre...\n",
    "7                     Tom and Huck  The movie opens with Injun Joe (Eric Schweig) ...\n",
    "8                        Toy Story  In a world where toys are living things who pr...\n",
    "9                Waiting to Exhale  \"Friends are the People who let you be yoursel...\n",
    "10                       GoldenEye  In 1986, at Arkhangelsk, MI6 agents James Bond...\n",
    "11                         Skyfall  MI6 agents James Bond and Eve Moneypenny pursu...\n",
    "'''"
   ]
  },
  {
   "cell_type": "code",
   "execution_count": null,
   "id": "42ddedc1",
   "metadata": {},
   "outputs": [],
   "source": [
    "rom sklearn.feature_extraction.text import TfidfVectorizer\n",
    "\n",
    "# Instantiate the vectorizer object and transform the plot column\n",
    "vectorizer = TfidfVectorizer(max_df=0.7, min_df=2)\n",
    "vectorized_data = vectorizer.fit_transform(df_plots['Plot']) \n",
    "\n",
    "# Create Dataframe from TF-IDFarray\n",
    "tfidf_df = pd.DataFrame(vectorized_data.toarray(), columns=vectorizer.get_feature_names())\n",
    "\n",
    "# Assign the movie titles to the index and inspect\n",
    "tfidf_df.index = df_plots['Title']\n",
    "print(tfidf_df.head())"
   ]
  },
  {
   "cell_type": "code",
   "execution_count": null,
   "id": "82a5923f",
   "metadata": {},
   "outputs": [],
   "source": [
    "'''\n",
    "                               000       100  abandoned     above  accidentally  ...     wrong      year     years       you     young\n",
    "Title                                                                                  ...                                                  \n",
    "Ace Ventura: When Nature Calls  0.000000  0.000000        0.0  0.000000      0.000000  ...  0.000000  0.000000  0.044595  0.000000  0.053863\n",
    "Dracula: Dead and Loving It     0.000000  0.000000        0.0  0.000000      0.000000  ...  0.000000  0.000000  0.000000  0.055645  0.000000\n",
    "Father of the Bride Part II     0.045850  0.045850        0.0  0.000000      0.000000  ...  0.045850  0.000000  0.030099  0.000000  0.072708\n",
    "Four Rooms                      0.039916  0.039916        0.0  0.079831      0.039916  ...  0.039916  0.079831  0.026203  0.000000  0.000000\n",
    "Grumpier Old Men                0.000000  0.000000        0.0  0.000000      0.000000  ...  0.000000  0.000000  0.000000  0.000000  0.000000\n",
    "\n",
    "\n",
    "'''"
   ]
  },
  {
   "cell_type": "code",
   "execution_count": null,
   "id": "8eda9bbc",
   "metadata": {},
   "outputs": [],
   "source": [
    "# Import cosine_similarity measure\n",
    "from sklearn.metrics.pairwise import cosine_similarity\n",
    "\n",
    "# Create the array of cosine similarity values\n",
    "cosine_similarity_array = cosine_similarity(tfidf_summary_df)\n",
    "\n",
    "# Wrap the array in a pandas DataFrame\n",
    "cosine_similarity_df = pd.DataFrame(cosine_similarity_array, columns=tfidf_summary_df.index, index=tfidf_summary_df.index)\n",
    "\n",
    "# Print the top 5 rows of the DataFrame\n",
    "print(cosine_similarity_df.head()) ## 18 * 18 matrix\n"
   ]
  },
  {
   "cell_type": "code",
   "execution_count": null,
   "id": "1304f264",
   "metadata": {},
   "outputs": [],
   "source": [
    "'''\n",
    "                                                       Thor  21 Jump Street  The Avengers    Oldboy  \n",
    "The Adventures of Tintin: The Secret of the Uni...  0.312927        0.282663      0.374425  0.248183  \n",
    "Alvin and the Chipmunks: Chipwrecked                0.323938        0.311788      0.400024  0.267687  \n",
    "Another Earth                                       0.304739        0.236896      0.229218  0.249804  \n",
    "Beastly                                             0.229194        0.187408      0.186539  0.207715  \n",
    "The Beaver                                          0.300383        0.238325      0.266592  0.253751  \n",
    "\n",
    "\n",
    "'''"
   ]
  },
  {
   "cell_type": "code",
   "execution_count": null,
   "id": "e1c980f9",
   "metadata": {},
   "outputs": [],
   "source": [
    "## How to make Recommendation \n",
    "# Wrap the preloaded array in a DataFrame\n",
    "cosine_similarity_df = pd.DataFrame(cosine_similarity_array, index=tfidf_summary_df.index, columns=tfidf_summary_df.index)\n",
    "\n",
    "# Find the values for the movie Thor\n",
    "cosine_similarity_series = cosine_similarity_df.loc['Rio']\n",
    "\n",
    "# Sort these values highest to lowest\n",
    "ordered_similarities = cosine_similarity_series.sort_values(ascending=False)\n",
    "\n",
    "# Print the results\n",
    "print(ordered_similarities)"
   ]
  },
  {
   "cell_type": "code",
   "execution_count": null,
   "id": "25754aa1",
   "metadata": {},
   "outputs": [],
   "source": [
    "'''\n",
    "Rio                                                    1.000000\n",
    "Alvin and the Chipmunks: Chipwrecked                   0.361180\n",
    "The Avengers                                           0.344869\n",
    "The Hangover: Part II                                  0.344407\n",
    "The Adventures of Tintin: The Secret of the Unicorn    0.327422\n",
    "Thor                                                   0.318216\n",
    "Green Lantern                                          0.314570\n",
    "Carnage                                                0.312067\n",
    "Cars 2                                                 0.306499\n",
    "21 Jump Street                                         0.290252\n",
    "Another Earth                                          0.281780\n",
    "Captain America: The First Avenger                     0.266358\n",
    "The Twilight Saga: Breaking Dawn - Part 1              0.262755\n",
    "Oldboy                                                 0.252323\n",
    "Bridesmaids                                            0.234514\n",
    "Beastly                                                0.213502\n",
    "\n",
    "'''"
   ]
  },
  {
   "cell_type": "code",
   "execution_count": null,
   "id": "6eb3b12b",
   "metadata": {},
   "outputs": [],
   "source": []
  },
  {
   "cell_type": "code",
   "execution_count": null,
   "id": "b3e6ecdc",
   "metadata": {},
   "outputs": [],
   "source": []
  }
 ],
 "metadata": {
  "kernelspec": {
   "display_name": "Python 3",
   "language": "python",
   "name": "python3"
  },
  "language_info": {
   "codemirror_mode": {
    "name": "ipython",
    "version": 3
   },
   "file_extension": ".py",
   "mimetype": "text/x-python",
   "name": "python",
   "nbconvert_exporter": "python",
   "pygments_lexer": "ipython3",
   "version": "3.8.8"
  }
 },
 "nbformat": 4,
 "nbformat_minor": 5
}
